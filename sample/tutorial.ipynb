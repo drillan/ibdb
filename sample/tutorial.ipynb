{
 "cells": [
  {
   "cell_type": "markdown",
   "metadata": {},
   "source": [
    "# ibdb Tutorial"
   ]
  },
  {
   "cell_type": "code",
   "execution_count": 1,
   "metadata": {},
   "outputs": [],
   "source": [
    "from ib_insync import util, IB, Forex\n",
    "from sqlalchemy import create_engine\n",
    "import ibdb"
   ]
  },
  {
   "cell_type": "markdown",
   "metadata": {},
   "source": [
    "connect using [ib-insync](https://github.com/erdewit/ib_insync)"
   ]
  },
  {
   "cell_type": "code",
   "execution_count": 2,
   "metadata": {},
   "outputs": [
    {
     "data": {
      "text/plain": [
       "<IB connected to 127.0.0.1:4002 clientId=3>"
      ]
     },
     "execution_count": 2,
     "metadata": {},
     "output_type": "execute_result"
    }
   ],
   "source": [
    "util.startLoop()  # Jupyter Notebook only\n",
    "\n",
    "ib = IB()\n",
    "ib.connect('127.0.0.1', 4002, clientId=3)"
   ]
  },
  {
   "cell_type": "markdown",
   "metadata": {},
   "source": [
    "create engine your database drivers"
   ]
  },
  {
   "cell_type": "code",
   "execution_count": 3,
   "metadata": {},
   "outputs": [],
   "source": [
    "engine = create_engine('sqlite:///:memory:')"
   ]
  },
  {
   "cell_type": "markdown",
   "metadata": {},
   "source": [
    "### Bar Data"
   ]
  },
  {
   "cell_type": "code",
   "execution_count": 4,
   "metadata": {},
   "outputs": [],
   "source": [
    "contract = Forex('EURUSD')\n",
    "bar_eurusd = ib.reqHistoricalData(\n",
    "    contract,\n",
    "    endDateTime='',\n",
    "    durationStr='2 D',\n",
    "    barSizeSetting='1 hour',\n",
    "    whatToShow='MIDPOINT',\n",
    "    useRTH=True)"
   ]
  },
  {
   "cell_type": "code",
   "execution_count": 5,
   "metadata": {},
   "outputs": [
    {
     "data": {
      "text/plain": [
       "[BarData(date=datetime.datetime(2019, 2, 12, 18, 0), open=1.126595, high=1.127635, low=1.126255, close=1.127435, volume=-1, barCount=-1, average=-1.0),\n",
       " BarData(date=datetime.datetime(2019, 2, 12, 19, 0), open=1.127435, high=1.128645, low=1.1273, close=1.128615, volume=-1, barCount=-1, average=-1.0),\n",
       " BarData(date=datetime.datetime(2019, 2, 12, 20, 0), open=1.128615, high=1.12863, low=1.12741, close=1.128245, volume=-1, barCount=-1, average=-1.0),\n",
       " BarData(date=datetime.datetime(2019, 2, 12, 21, 0), open=1.128245, high=1.129565, low=1.128025, close=1.128935, volume=-1, barCount=-1, average=-1.0),\n",
       " BarData(date=datetime.datetime(2019, 2, 12, 22, 0), open=1.128935, high=1.12977, low=1.128875, close=1.129635, volume=-1, barCount=-1, average=-1.0)]"
      ]
     },
     "execution_count": 5,
     "metadata": {},
     "output_type": "execute_result"
    }
   ],
   "source": [
    "bar_eurusd[-5:]"
   ]
  },
  {
   "cell_type": "markdown",
   "metadata": {},
   "source": [
    "specify `sqlalchemy.engine.base.Engine` and `tablename`"
   ]
  },
  {
   "cell_type": "code",
   "execution_count": 6,
   "metadata": {},
   "outputs": [],
   "source": [
    "bar_table_eurusd = ibdb.tables.Bars(engine, \"EURUSD\")"
   ]
  },
  {
   "cell_type": "markdown",
   "metadata": {},
   "source": [
    "create table"
   ]
  },
  {
   "cell_type": "code",
   "execution_count": 7,
   "metadata": {},
   "outputs": [],
   "source": [
    "bar_table_eurusd.create_table()"
   ]
  },
  {
   "cell_type": "markdown",
   "metadata": {},
   "source": [
    "insert data"
   ]
  },
  {
   "cell_type": "code",
   "execution_count": 8,
   "metadata": {},
   "outputs": [],
   "source": [
    "bar_table_eurusd.insert(bar_eurusd)"
   ]
  },
  {
   "cell_type": "markdown",
   "metadata": {},
   "source": [
    "select by SQL"
   ]
  },
  {
   "cell_type": "code",
   "execution_count": 9,
   "metadata": {},
   "outputs": [
    {
     "data": {
      "text/html": [
       "<div>\n",
       "<style scoped>\n",
       "    .dataframe tbody tr th:only-of-type {\n",
       "        vertical-align: middle;\n",
       "    }\n",
       "\n",
       "    .dataframe tbody tr th {\n",
       "        vertical-align: top;\n",
       "    }\n",
       "\n",
       "    .dataframe thead th {\n",
       "        text-align: right;\n",
       "    }\n",
       "</style>\n",
       "<table border=\"1\" class=\"dataframe\">\n",
       "  <thead>\n",
       "    <tr style=\"text-align: right;\">\n",
       "      <th></th>\n",
       "      <th>date</th>\n",
       "      <th>open</th>\n",
       "      <th>high</th>\n",
       "      <th>low</th>\n",
       "      <th>close</th>\n",
       "      <th>volume</th>\n",
       "      <th>barCount</th>\n",
       "      <th>average</th>\n",
       "    </tr>\n",
       "  </thead>\n",
       "  <tbody>\n",
       "    <tr>\n",
       "      <th>0</th>\n",
       "      <td>2019-02-11 07:15:00.000000</td>\n",
       "      <td>1.131375</td>\n",
       "      <td>1.132475</td>\n",
       "      <td>1.129925</td>\n",
       "      <td>1.131895</td>\n",
       "      <td>-1</td>\n",
       "      <td>-1</td>\n",
       "      <td>-1.0</td>\n",
       "    </tr>\n",
       "    <tr>\n",
       "      <th>1</th>\n",
       "      <td>2019-02-11 08:00:00.000000</td>\n",
       "      <td>1.131895</td>\n",
       "      <td>1.132500</td>\n",
       "      <td>1.131875</td>\n",
       "      <td>1.132390</td>\n",
       "      <td>-1</td>\n",
       "      <td>-1</td>\n",
       "      <td>-1.0</td>\n",
       "    </tr>\n",
       "    <tr>\n",
       "      <th>2</th>\n",
       "      <td>2019-02-11 09:00:00.000000</td>\n",
       "      <td>1.132390</td>\n",
       "      <td>1.132555</td>\n",
       "      <td>1.132280</td>\n",
       "      <td>1.132345</td>\n",
       "      <td>-1</td>\n",
       "      <td>-1</td>\n",
       "      <td>-1.0</td>\n",
       "    </tr>\n",
       "    <tr>\n",
       "      <th>3</th>\n",
       "      <td>2019-02-11 10:00:00.000000</td>\n",
       "      <td>1.132345</td>\n",
       "      <td>1.132775</td>\n",
       "      <td>1.132345</td>\n",
       "      <td>1.132735</td>\n",
       "      <td>-1</td>\n",
       "      <td>-1</td>\n",
       "      <td>-1.0</td>\n",
       "    </tr>\n",
       "    <tr>\n",
       "      <th>4</th>\n",
       "      <td>2019-02-11 11:00:00.000000</td>\n",
       "      <td>1.132735</td>\n",
       "      <td>1.132775</td>\n",
       "      <td>1.132395</td>\n",
       "      <td>1.132445</td>\n",
       "      <td>-1</td>\n",
       "      <td>-1</td>\n",
       "      <td>-1.0</td>\n",
       "    </tr>\n",
       "  </tbody>\n",
       "</table>\n",
       "</div>"
      ],
      "text/plain": [
       "                         date      open      high       low     close  volume  \\\n",
       "0  2019-02-11 07:15:00.000000  1.131375  1.132475  1.129925  1.131895      -1   \n",
       "1  2019-02-11 08:00:00.000000  1.131895  1.132500  1.131875  1.132390      -1   \n",
       "2  2019-02-11 09:00:00.000000  1.132390  1.132555  1.132280  1.132345      -1   \n",
       "3  2019-02-11 10:00:00.000000  1.132345  1.132775  1.132345  1.132735      -1   \n",
       "4  2019-02-11 11:00:00.000000  1.132735  1.132775  1.132395  1.132445      -1   \n",
       "\n",
       "   barCount  average  \n",
       "0        -1     -1.0  \n",
       "1        -1     -1.0  \n",
       "2        -1     -1.0  \n",
       "3        -1     -1.0  \n",
       "4        -1     -1.0  "
      ]
     },
     "execution_count": 9,
     "metadata": {},
     "output_type": "execute_result"
    }
   ],
   "source": [
    "import pandas as pd\n",
    "\n",
    "pd.read_sql(\"select * from EURUSD limit 5\", engine)"
   ]
  },
  {
   "cell_type": "markdown",
   "metadata": {},
   "source": [
    "### Tick Data"
   ]
  },
  {
   "cell_type": "code",
   "execution_count": 10,
   "metadata": {},
   "outputs": [],
   "source": [
    "import datetime\n",
    "\n",
    "contract = Forex('USDJPY')\n",
    "start = ''\n",
    "end = datetime.datetime.now()\n",
    "tick_usdjpy = ib.reqHistoricalTicks(contract, start, end, 10, whatToShow=\"BID_ASK\",useRth=False)"
   ]
  },
  {
   "cell_type": "code",
   "execution_count": 11,
   "metadata": {},
   "outputs": [
    {
     "data": {
      "text/plain": [
       "[HistoricalTickBidAsk(time=datetime.datetime(2019, 2, 12, 13, 20, 42, tzinfo=datetime.timezone.utc), tickAttribBidAsk=TickAttribBidAsk(), priceBid=110.382, priceAsk=110.383, sizeBid=10000000, sizeAsk=2000000),\n",
       " HistoricalTickBidAsk(time=datetime.datetime(2019, 2, 12, 13, 20, 42, tzinfo=datetime.timezone.utc), tickAttribBidAsk=TickAttribBidAsk(), priceBid=110.382, priceAsk=110.383, sizeBid=9000000, sizeAsk=2000000),\n",
       " HistoricalTickBidAsk(time=datetime.datetime(2019, 2, 12, 13, 20, 42, tzinfo=datetime.timezone.utc), tickAttribBidAsk=TickAttribBidAsk(), priceBid=110.382, priceAsk=110.383, sizeBid=9000000, sizeAsk=1000000),\n",
       " HistoricalTickBidAsk(time=datetime.datetime(2019, 2, 12, 13, 20, 42, tzinfo=datetime.timezone.utc), tickAttribBidAsk=TickAttribBidAsk(), priceBid=110.382, priceAsk=110.383, sizeBid=9000000, sizeAsk=2000000),\n",
       " HistoricalTickBidAsk(time=datetime.datetime(2019, 2, 12, 13, 20, 42, tzinfo=datetime.timezone.utc), tickAttribBidAsk=TickAttribBidAsk(), priceBid=110.382, priceAsk=110.383, sizeBid=10000000, sizeAsk=1000000)]"
      ]
     },
     "execution_count": 11,
     "metadata": {},
     "output_type": "execute_result"
    }
   ],
   "source": [
    "tick_usdjpy[-5:]"
   ]
  },
  {
   "cell_type": "code",
   "execution_count": 12,
   "metadata": {},
   "outputs": [],
   "source": [
    "tick_table_usdjpy = ibdb.tables.Ticks(engine, \"USDJPY\")"
   ]
  },
  {
   "cell_type": "code",
   "execution_count": 13,
   "metadata": {},
   "outputs": [],
   "source": [
    "tick_table_usdjpy.create_table()"
   ]
  },
  {
   "cell_type": "code",
   "execution_count": 14,
   "metadata": {},
   "outputs": [],
   "source": [
    "tick_table_usdjpy.insert(tick_usdjpy)"
   ]
  },
  {
   "cell_type": "code",
   "execution_count": 15,
   "metadata": {},
   "outputs": [
    {
     "data": {
      "text/html": [
       "<div>\n",
       "<style scoped>\n",
       "    .dataframe tbody tr th:only-of-type {\n",
       "        vertical-align: middle;\n",
       "    }\n",
       "\n",
       "    .dataframe tbody tr th {\n",
       "        vertical-align: top;\n",
       "    }\n",
       "\n",
       "    .dataframe thead th {\n",
       "        text-align: right;\n",
       "    }\n",
       "</style>\n",
       "<table border=\"1\" class=\"dataframe\">\n",
       "  <thead>\n",
       "    <tr style=\"text-align: right;\">\n",
       "      <th></th>\n",
       "      <th>id</th>\n",
       "      <th>time</th>\n",
       "      <th>priceBid</th>\n",
       "      <th>priceAsk</th>\n",
       "      <th>sizeBid</th>\n",
       "      <th>sizeAsk</th>\n",
       "    </tr>\n",
       "  </thead>\n",
       "  <tbody>\n",
       "    <tr>\n",
       "      <th>0</th>\n",
       "      <td>828247bbc937750bb19c73bab44d90fa</td>\n",
       "      <td>2019-02-12 13:20:41.000000</td>\n",
       "      <td>110.383</td>\n",
       "      <td>110.384</td>\n",
       "      <td>3000000.0</td>\n",
       "      <td>1000000.0</td>\n",
       "    </tr>\n",
       "    <tr>\n",
       "      <th>1</th>\n",
       "      <td>191ccccd13026310dd0a1cf75b524661</td>\n",
       "      <td>2019-02-12 13:20:42.000000</td>\n",
       "      <td>110.383</td>\n",
       "      <td>110.384</td>\n",
       "      <td>2000000.0</td>\n",
       "      <td>1000000.0</td>\n",
       "    </tr>\n",
       "    <tr>\n",
       "      <th>2</th>\n",
       "      <td>7af19b3a18cf4eaa66b03ddf88028543</td>\n",
       "      <td>2019-02-12 13:20:42.000000</td>\n",
       "      <td>110.383</td>\n",
       "      <td>110.384</td>\n",
       "      <td>4000000.0</td>\n",
       "      <td>1000000.0</td>\n",
       "    </tr>\n",
       "    <tr>\n",
       "      <th>3</th>\n",
       "      <td>510b74ed3afc3c28035349b099b615db</td>\n",
       "      <td>2019-02-12 13:20:42.000000</td>\n",
       "      <td>110.383</td>\n",
       "      <td>110.384</td>\n",
       "      <td>3000000.0</td>\n",
       "      <td>2000000.0</td>\n",
       "    </tr>\n",
       "    <tr>\n",
       "      <th>4</th>\n",
       "      <td>0d06a00df12652b9b1426b3e153335e6</td>\n",
       "      <td>2019-02-12 13:20:42.000000</td>\n",
       "      <td>110.383</td>\n",
       "      <td>110.384</td>\n",
       "      <td>3000000.0</td>\n",
       "      <td>3000000.0</td>\n",
       "    </tr>\n",
       "    <tr>\n",
       "      <th>5</th>\n",
       "      <td>5a4b200bb71c3a36b955e32668d48635</td>\n",
       "      <td>2019-02-12 13:20:42.000000</td>\n",
       "      <td>110.382</td>\n",
       "      <td>110.384</td>\n",
       "      <td>11000000.0</td>\n",
       "      <td>3000000.0</td>\n",
       "    </tr>\n",
       "    <tr>\n",
       "      <th>6</th>\n",
       "      <td>9bbfa37ff29cc90f506e8f86c1430029</td>\n",
       "      <td>2019-02-12 13:20:42.000000</td>\n",
       "      <td>110.382</td>\n",
       "      <td>110.384</td>\n",
       "      <td>11000000.0</td>\n",
       "      <td>4000000.0</td>\n",
       "    </tr>\n",
       "    <tr>\n",
       "      <th>7</th>\n",
       "      <td>97b52376aa56ef97d0e523059d44868e</td>\n",
       "      <td>2019-02-12 13:20:42.000000</td>\n",
       "      <td>110.382</td>\n",
       "      <td>110.384</td>\n",
       "      <td>11000000.0</td>\n",
       "      <td>5000000.0</td>\n",
       "    </tr>\n",
       "    <tr>\n",
       "      <th>8</th>\n",
       "      <td>7f2149e066d69f07116dc04c2956f559</td>\n",
       "      <td>2019-02-12 13:20:42.000000</td>\n",
       "      <td>110.382</td>\n",
       "      <td>110.383</td>\n",
       "      <td>10000000.0</td>\n",
       "      <td>1000000.0</td>\n",
       "    </tr>\n",
       "    <tr>\n",
       "      <th>9</th>\n",
       "      <td>18c827453eb8113520b934fd826e9a74</td>\n",
       "      <td>2019-02-12 13:20:42.000000</td>\n",
       "      <td>110.382</td>\n",
       "      <td>110.383</td>\n",
       "      <td>10000000.0</td>\n",
       "      <td>2000000.0</td>\n",
       "    </tr>\n",
       "    <tr>\n",
       "      <th>10</th>\n",
       "      <td>66af34730c041882adec8d247f7c7879</td>\n",
       "      <td>2019-02-12 13:20:42.000000</td>\n",
       "      <td>110.382</td>\n",
       "      <td>110.383</td>\n",
       "      <td>9000000.0</td>\n",
       "      <td>2000000.0</td>\n",
       "    </tr>\n",
       "    <tr>\n",
       "      <th>11</th>\n",
       "      <td>727bb0ea23f121b38729a4408253c2ea</td>\n",
       "      <td>2019-02-12 13:20:42.000000</td>\n",
       "      <td>110.382</td>\n",
       "      <td>110.383</td>\n",
       "      <td>9000000.0</td>\n",
       "      <td>1000000.0</td>\n",
       "    </tr>\n",
       "    <tr>\n",
       "      <th>12</th>\n",
       "      <td>66af34730c041882adec8d247f7c7879</td>\n",
       "      <td>2019-02-12 13:20:42.000000</td>\n",
       "      <td>110.382</td>\n",
       "      <td>110.383</td>\n",
       "      <td>9000000.0</td>\n",
       "      <td>2000000.0</td>\n",
       "    </tr>\n",
       "    <tr>\n",
       "      <th>13</th>\n",
       "      <td>7f2149e066d69f07116dc04c2956f559</td>\n",
       "      <td>2019-02-12 13:20:42.000000</td>\n",
       "      <td>110.382</td>\n",
       "      <td>110.383</td>\n",
       "      <td>10000000.0</td>\n",
       "      <td>1000000.0</td>\n",
       "    </tr>\n",
       "  </tbody>\n",
       "</table>\n",
       "</div>"
      ],
      "text/plain": [
       "                                  id                        time  priceBid  \\\n",
       "0   828247bbc937750bb19c73bab44d90fa  2019-02-12 13:20:41.000000   110.383   \n",
       "1   191ccccd13026310dd0a1cf75b524661  2019-02-12 13:20:42.000000   110.383   \n",
       "2   7af19b3a18cf4eaa66b03ddf88028543  2019-02-12 13:20:42.000000   110.383   \n",
       "3   510b74ed3afc3c28035349b099b615db  2019-02-12 13:20:42.000000   110.383   \n",
       "4   0d06a00df12652b9b1426b3e153335e6  2019-02-12 13:20:42.000000   110.383   \n",
       "5   5a4b200bb71c3a36b955e32668d48635  2019-02-12 13:20:42.000000   110.382   \n",
       "6   9bbfa37ff29cc90f506e8f86c1430029  2019-02-12 13:20:42.000000   110.382   \n",
       "7   97b52376aa56ef97d0e523059d44868e  2019-02-12 13:20:42.000000   110.382   \n",
       "8   7f2149e066d69f07116dc04c2956f559  2019-02-12 13:20:42.000000   110.382   \n",
       "9   18c827453eb8113520b934fd826e9a74  2019-02-12 13:20:42.000000   110.382   \n",
       "10  66af34730c041882adec8d247f7c7879  2019-02-12 13:20:42.000000   110.382   \n",
       "11  727bb0ea23f121b38729a4408253c2ea  2019-02-12 13:20:42.000000   110.382   \n",
       "12  66af34730c041882adec8d247f7c7879  2019-02-12 13:20:42.000000   110.382   \n",
       "13  7f2149e066d69f07116dc04c2956f559  2019-02-12 13:20:42.000000   110.382   \n",
       "\n",
       "    priceAsk     sizeBid    sizeAsk  \n",
       "0    110.384   3000000.0  1000000.0  \n",
       "1    110.384   2000000.0  1000000.0  \n",
       "2    110.384   4000000.0  1000000.0  \n",
       "3    110.384   3000000.0  2000000.0  \n",
       "4    110.384   3000000.0  3000000.0  \n",
       "5    110.384  11000000.0  3000000.0  \n",
       "6    110.384  11000000.0  4000000.0  \n",
       "7    110.384  11000000.0  5000000.0  \n",
       "8    110.383  10000000.0  1000000.0  \n",
       "9    110.383  10000000.0  2000000.0  \n",
       "10   110.383   9000000.0  2000000.0  \n",
       "11   110.383   9000000.0  1000000.0  \n",
       "12   110.383   9000000.0  2000000.0  \n",
       "13   110.383  10000000.0  1000000.0  "
      ]
     },
     "execution_count": 15,
     "metadata": {},
     "output_type": "execute_result"
    }
   ],
   "source": [
    "pd.read_sql(\"select * from USDJPY\", engine)"
   ]
  },
  {
   "cell_type": "markdown",
   "metadata": {},
   "source": [
    "### Fills (Trade History)"
   ]
  },
  {
   "cell_type": "code",
   "execution_count": 16,
   "metadata": {},
   "outputs": [],
   "source": [
    "fills = ib.fills()"
   ]
  },
  {
   "cell_type": "code",
   "execution_count": 17,
   "metadata": {},
   "outputs": [
    {
     "data": {
      "text/plain": [
       "[Fill(contract=Option(conId=288525886, symbol='N225', lastTradeDateOrContractMonth='20190307', strike=18750.0, right='P', multiplier='1000', exchange='OSE.JPN', currency='JPY', localSymbol='134038718', tradingClass='NK225'), execution=Execution(execId='0000fa22.5c61fb7b.01.01', time=datetime.datetime(2019, 2, 12, 9, 29, 49, tzinfo=datetime.timezone.utc), acctNumber='U544417', exchange='OSE.JPN', side='SLD', shares=1.0, price=25.0, permId=358478949, cumQty=5.0, avgPrice=25.0, lastLiquidity=1), commissionReport=CommissionReport(), time=datetime.datetime(2019, 2, 12, 9, 29, 49, tzinfo=datetime.timezone.utc)),\n",
       " Fill(contract=Option(conId=288525831, symbol='N225', lastTradeDateOrContractMonth='20190307', strike=17000.0, right='P', multiplier='1000', exchange='OSE.JPN', currency='JPY', localSymbol='134037018', tradingClass='NK225'), execution=Execution(execId='0000fa22.5c61fb7d.01.01', time=datetime.datetime(2019, 2, 12, 9, 33, 37, tzinfo=datetime.timezone.utc), acctNumber='U544417', exchange='OSE.JPN', side='BOT', shares=1.0, price=7.0, permId=358478947, cumQty=9.0, avgPrice=7.0, lastLiquidity=1), commissionReport=CommissionReport(), time=datetime.datetime(2019, 2, 12, 9, 33, 37, tzinfo=datetime.timezone.utc)),\n",
       " Fill(contract=Option(conId=288525831, symbol='N225', lastTradeDateOrContractMonth='20190307', strike=17000.0, right='P', multiplier='1000', exchange='OSE.JPN', currency='JPY', localSymbol='134037018', tradingClass='NK225'), execution=Execution(execId='0000fa22.5c61fb7f.01.01', time=datetime.datetime(2019, 2, 12, 9, 40, 18, tzinfo=datetime.timezone.utc), acctNumber='U544417', exchange='OSE.JPN', side='BOT', shares=1.0, price=7.0, permId=358478947, cumQty=10.0, avgPrice=7.0, lastLiquidity=1), commissionReport=CommissionReport(), time=datetime.datetime(2019, 2, 12, 9, 40, 18, tzinfo=datetime.timezone.utc))]"
      ]
     },
     "execution_count": 17,
     "metadata": {},
     "output_type": "execute_result"
    }
   ],
   "source": [
    "fills[-3:]"
   ]
  },
  {
   "cell_type": "code",
   "execution_count": 18,
   "metadata": {},
   "outputs": [],
   "source": [
    "fills_table = ibdb.tables.Fills(engine, \"trade_log\")"
   ]
  },
  {
   "cell_type": "code",
   "execution_count": 19,
   "metadata": {},
   "outputs": [],
   "source": [
    "fills_table.create_table()"
   ]
  },
  {
   "cell_type": "code",
   "execution_count": 20,
   "metadata": {},
   "outputs": [],
   "source": [
    "fills_table.insert(fills)"
   ]
  },
  {
   "cell_type": "code",
   "execution_count": 21,
   "metadata": {},
   "outputs": [
    {
     "data": {
      "text/html": [
       "<div>\n",
       "<style scoped>\n",
       "    .dataframe tbody tr th:only-of-type {\n",
       "        vertical-align: middle;\n",
       "    }\n",
       "\n",
       "    .dataframe tbody tr th {\n",
       "        vertical-align: top;\n",
       "    }\n",
       "\n",
       "    .dataframe thead th {\n",
       "        text-align: right;\n",
       "    }\n",
       "</style>\n",
       "<table border=\"1\" class=\"dataframe\">\n",
       "  <thead>\n",
       "    <tr style=\"text-align: right;\">\n",
       "      <th></th>\n",
       "      <th>execId</th>\n",
       "      <th>time</th>\n",
       "      <th>acctNumber</th>\n",
       "      <th>exchange</th>\n",
       "      <th>side</th>\n",
       "      <th>shares</th>\n",
       "      <th>price</th>\n",
       "      <th>permId</th>\n",
       "      <th>clientId</th>\n",
       "      <th>orderId</th>\n",
       "      <th>...</th>\n",
       "      <th>includeExpired</th>\n",
       "      <th>secIdType</th>\n",
       "      <th>secId</th>\n",
       "      <th>comboLegsDescrip</th>\n",
       "      <th>comboLegs</th>\n",
       "      <th>deltaNeutralContract</th>\n",
       "      <th>commission</th>\n",
       "      <th>realizedPNL</th>\n",
       "      <th>yield_</th>\n",
       "      <th>yieldRedemptionDate</th>\n",
       "    </tr>\n",
       "  </thead>\n",
       "  <tbody>\n",
       "    <tr>\n",
       "      <th>0</th>\n",
       "      <td>0000fa22.5c61f864.01.01</td>\n",
       "      <td>2019-02-12 00:28:22.000000</td>\n",
       "      <td>U544417</td>\n",
       "      <td>OSE.JPN</td>\n",
       "      <td>SLD</td>\n",
       "      <td>10.0</td>\n",
       "      <td>5.0</td>\n",
       "      <td>358478869</td>\n",
       "      <td>0</td>\n",
       "      <td>0</td>\n",
       "      <td>...</td>\n",
       "      <td>0</td>\n",
       "      <td></td>\n",
       "      <td></td>\n",
       "      <td></td>\n",
       "      <td>None</td>\n",
       "      <td>None</td>\n",
       "      <td>0.0</td>\n",
       "      <td>0.0</td>\n",
       "      <td>0.0</td>\n",
       "      <td>0.0</td>\n",
       "    </tr>\n",
       "    <tr>\n",
       "      <th>1</th>\n",
       "      <td>0000fa22.5c61f865.01.01</td>\n",
       "      <td>2019-02-12 00:28:58.000000</td>\n",
       "      <td>U544417</td>\n",
       "      <td>OSE.JPN</td>\n",
       "      <td>BOT</td>\n",
       "      <td>1.0</td>\n",
       "      <td>95.0</td>\n",
       "      <td>358478871</td>\n",
       "      <td>0</td>\n",
       "      <td>0</td>\n",
       "      <td>...</td>\n",
       "      <td>0</td>\n",
       "      <td></td>\n",
       "      <td></td>\n",
       "      <td></td>\n",
       "      <td>None</td>\n",
       "      <td>None</td>\n",
       "      <td>0.0</td>\n",
       "      <td>0.0</td>\n",
       "      <td>0.0</td>\n",
       "      <td>0.0</td>\n",
       "    </tr>\n",
       "    <tr>\n",
       "      <th>2</th>\n",
       "      <td>0000fa22.5c61f866.01.01</td>\n",
       "      <td>2019-02-12 00:29:07.000000</td>\n",
       "      <td>U544417</td>\n",
       "      <td>OSE.JPN</td>\n",
       "      <td>SLD</td>\n",
       "      <td>4.0</td>\n",
       "      <td>9.0</td>\n",
       "      <td>358478872</td>\n",
       "      <td>0</td>\n",
       "      <td>0</td>\n",
       "      <td>...</td>\n",
       "      <td>0</td>\n",
       "      <td></td>\n",
       "      <td></td>\n",
       "      <td></td>\n",
       "      <td>None</td>\n",
       "      <td>None</td>\n",
       "      <td>0.0</td>\n",
       "      <td>0.0</td>\n",
       "      <td>0.0</td>\n",
       "      <td>0.0</td>\n",
       "    </tr>\n",
       "    <tr>\n",
       "      <th>3</th>\n",
       "      <td>0000fa22.5c61f875.01.01</td>\n",
       "      <td>2019-02-12 00:32:40.000000</td>\n",
       "      <td>U544417</td>\n",
       "      <td>OSE.JPN</td>\n",
       "      <td>BOT</td>\n",
       "      <td>1.0</td>\n",
       "      <td>92.0</td>\n",
       "      <td>358478874</td>\n",
       "      <td>0</td>\n",
       "      <td>0</td>\n",
       "      <td>...</td>\n",
       "      <td>0</td>\n",
       "      <td></td>\n",
       "      <td></td>\n",
       "      <td></td>\n",
       "      <td>None</td>\n",
       "      <td>None</td>\n",
       "      <td>0.0</td>\n",
       "      <td>0.0</td>\n",
       "      <td>0.0</td>\n",
       "      <td>0.0</td>\n",
       "    </tr>\n",
       "    <tr>\n",
       "      <th>4</th>\n",
       "      <td>0000fa22.5c61f87d.01.01</td>\n",
       "      <td>2019-02-12 00:33:01.000000</td>\n",
       "      <td>U544417</td>\n",
       "      <td>OSE.JPN</td>\n",
       "      <td>BOT</td>\n",
       "      <td>4.0</td>\n",
       "      <td>25.0</td>\n",
       "      <td>358478873</td>\n",
       "      <td>0</td>\n",
       "      <td>0</td>\n",
       "      <td>...</td>\n",
       "      <td>0</td>\n",
       "      <td></td>\n",
       "      <td></td>\n",
       "      <td></td>\n",
       "      <td>None</td>\n",
       "      <td>None</td>\n",
       "      <td>0.0</td>\n",
       "      <td>0.0</td>\n",
       "      <td>0.0</td>\n",
       "      <td>0.0</td>\n",
       "    </tr>\n",
       "  </tbody>\n",
       "</table>\n",
       "<p>5 rows × 39 columns</p>\n",
       "</div>"
      ],
      "text/plain": [
       "                    execId                        time acctNumber exchange  \\\n",
       "0  0000fa22.5c61f864.01.01  2019-02-12 00:28:22.000000    U544417  OSE.JPN   \n",
       "1  0000fa22.5c61f865.01.01  2019-02-12 00:28:58.000000    U544417  OSE.JPN   \n",
       "2  0000fa22.5c61f866.01.01  2019-02-12 00:29:07.000000    U544417  OSE.JPN   \n",
       "3  0000fa22.5c61f875.01.01  2019-02-12 00:32:40.000000    U544417  OSE.JPN   \n",
       "4  0000fa22.5c61f87d.01.01  2019-02-12 00:33:01.000000    U544417  OSE.JPN   \n",
       "\n",
       "  side  shares  price     permId  clientId  orderId         ...           \\\n",
       "0  SLD    10.0    5.0  358478869         0        0         ...            \n",
       "1  BOT     1.0   95.0  358478871         0        0         ...            \n",
       "2  SLD     4.0    9.0  358478872         0        0         ...            \n",
       "3  BOT     1.0   92.0  358478874         0        0         ...            \n",
       "4  BOT     4.0   25.0  358478873         0        0         ...            \n",
       "\n",
       "   includeExpired  secIdType  secId comboLegsDescrip comboLegs  \\\n",
       "0               0                                         None   \n",
       "1               0                                         None   \n",
       "2               0                                         None   \n",
       "3               0                                         None   \n",
       "4               0                                         None   \n",
       "\n",
       "   deltaNeutralContract commission  realizedPNL yield_  yieldRedemptionDate  \n",
       "0                  None        0.0          0.0    0.0                  0.0  \n",
       "1                  None        0.0          0.0    0.0                  0.0  \n",
       "2                  None        0.0          0.0    0.0                  0.0  \n",
       "3                  None        0.0          0.0    0.0                  0.0  \n",
       "4                  None        0.0          0.0    0.0                  0.0  \n",
       "\n",
       "[5 rows x 39 columns]"
      ]
     },
     "execution_count": 21,
     "metadata": {},
     "output_type": "execute_result"
    }
   ],
   "source": [
    "pd.read_sql(\"select * from trade_log limit 5\", engine)"
   ]
  },
  {
   "cell_type": "code",
   "execution_count": 22,
   "metadata": {},
   "outputs": [],
   "source": [
    "ib.disconnect()\n",
    "engine.dispose()"
   ]
  },
  {
   "cell_type": "code",
   "execution_count": null,
   "metadata": {},
   "outputs": [],
   "source": []
  }
 ],
 "metadata": {
  "kernelspec": {
   "display_name": "Python 3",
   "language": "python",
   "name": "python3"
  },
  "language_info": {
   "codemirror_mode": {
    "name": "ipython",
    "version": 3
   },
   "file_extension": ".py",
   "mimetype": "text/x-python",
   "name": "python",
   "nbconvert_exporter": "python",
   "pygments_lexer": "ipython3",
   "version": "3.6.7"
  }
 },
 "nbformat": 4,
 "nbformat_minor": 2
}
